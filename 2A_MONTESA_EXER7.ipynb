{
  "nbformat": 4,
  "nbformat_minor": 0,
  "metadata": {
    "colab": {
      "provenance": []
    },
    "kernelspec": {
      "name": "python3",
      "display_name": "Python 3"
    },
    "language_info": {
      "name": "python"
    }
  },
  "cells": [
    {
      "cell_type": "markdown",
      "source": [
        "I. Data Loading and Preprocessing"
      ],
      "metadata": {
        "id": "0rs3m_y7UlcS"
      }
    },
    {
      "cell_type": "markdown",
      "source": [
        "1. Load the dataset"
      ],
      "metadata": {
        "id": "eRVSpBVsUtwU"
      }
    },
    {
      "cell_type": "code",
      "source": [
        "import pandas as pd\n",
        "import matplotlib.pyplot as plt\n",
        "import seaborn as sns\n",
        "import numpy as np\n",
        "from sklearn.model_selection import train_test_split\n",
        "from sklearn.preprocessing import StandardScaler, OneHotEncoder\n",
        "from sklearn.linear_model import LinearRegression, LogisticRegression\n",
        "from sklearn.metrics import r2_score, mean_squared_error\n",
        "from sklearn.metrics import accuracy_score, precision_score, recall_score, f1_score, classification_report, confusion_matrix"
      ],
      "metadata": {
        "id": "5mle6x7EUv-l"
      },
      "execution_count": null,
      "outputs": []
    },
    {
      "cell_type": "code",
      "source": [
        "nf_data = pd.read_csv('Netflix_Userbase.csv')\n",
        "print (nf_data.head())"
      ],
      "metadata": {
        "colab": {
          "base_uri": "https://localhost:8080/"
        },
        "id": "F8TY5CWeG7oW",
        "outputId": "b9f465c5-0460-41ea-9d26-54e85f739737"
      },
      "execution_count": null,
      "outputs": [
        {
          "output_type": "stream",
          "name": "stdout",
          "text": [
            "   User ID Subscription Type  Monthly Revenue Join Date Last Payment Date  \\\n",
            "0        1             Basic               10  15-01-22          10-06-23   \n",
            "1        2           Premium               15  05-09-21          22-06-23   \n",
            "2        3          Standard               12  28-02-23          27-06-23   \n",
            "3        4          Standard               12  10-07-22          26-06-23   \n",
            "4        5             Basic               10  01-05-23          28-06-23   \n",
            "\n",
            "          Country  Age  Gender      Device Plan Duration  \n",
            "0   United States   28    Male  Smartphone       1 Month  \n",
            "1          Canada   35  Female      Tablet       1 Month  \n",
            "2  United Kingdom   42    Male    Smart TV       1 Month  \n",
            "3       Australia   51  Female      Laptop       1 Month  \n",
            "4         Germany   33    Male  Smartphone       1 Month  \n"
          ]
        }
      ]
    },
    {
      "cell_type": "markdown",
      "source": [
        "2. Handling missing values"
      ],
      "metadata": {
        "id": "zJuaZ1HtWs67"
      }
    },
    {
      "cell_type": "code",
      "source": [
        "print (nf_data.isnull().sum())"
      ],
      "metadata": {
        "colab": {
          "base_uri": "https://localhost:8080/"
        },
        "id": "tVkdVjCBG3op",
        "outputId": "da98e7d0-d964-4fbf-d679-f9c2b9b7d002"
      },
      "execution_count": null,
      "outputs": [
        {
          "output_type": "stream",
          "name": "stdout",
          "text": [
            "User ID              0\n",
            "Subscription Type    0\n",
            "Monthly Revenue      0\n",
            "Join Date            0\n",
            "Last Payment Date    0\n",
            "Country              0\n",
            "Age                  0\n",
            "Gender               0\n",
            "Device               0\n",
            "Plan Duration        0\n",
            "dtype: int64\n"
          ]
        }
      ]
    },
    {
      "cell_type": "markdown",
      "source": [
        "3. Encode categorical values"
      ],
      "metadata": {
        "id": "qR3G-MHyXuSb"
      }
    },
    {
      "cell_type": "code",
      "source": [
        "nf_data_encoded = pd.get_dummies(nf_data)\n",
        "print (nf_data_encoded.head())\n",
        "nf_data_dummies = pd.get_dummies(nf_data, drop_first=True)"
      ],
      "metadata": {
        "colab": {
          "base_uri": "https://localhost:8080/"
        },
        "id": "jTMkS9XBX_Nl",
        "outputId": "edca7259-87e7-44e4-9893-625783322c8b"
      },
      "execution_count": null,
      "outputs": [
        {
          "output_type": "stream",
          "name": "stdout",
          "text": [
            "   User ID  Monthly Revenue  Age  Subscription Type_Basic  \\\n",
            "0        1               10   28                        1   \n",
            "1        2               15   35                        0   \n",
            "2        3               12   42                        0   \n",
            "3        4               12   51                        0   \n",
            "4        5               10   33                        1   \n",
            "\n",
            "   Subscription Type_Premium  Subscription Type_Standard  Join Date_01-03-22  \\\n",
            "0                          0                           0                   0   \n",
            "1                          1                           0                   0   \n",
            "2                          0                           1                   0   \n",
            "3                          0                           1                   0   \n",
            "4                          0                           0                   0   \n",
            "\n",
            "   Join Date_01-05-23  Join Date_01-06-22  Join Date_01-07-22  ...  \\\n",
            "0                   0                   0                   0  ...   \n",
            "1                   0                   0                   0  ...   \n",
            "2                   0                   0                   0  ...   \n",
            "3                   0                   0                   0  ...   \n",
            "4                   1                   0                   0  ...   \n",
            "\n",
            "   Country_Spain  Country_United Kingdom  Country_United States  \\\n",
            "0              0                       0                      1   \n",
            "1              0                       0                      0   \n",
            "2              0                       1                      0   \n",
            "3              0                       0                      0   \n",
            "4              0                       0                      0   \n",
            "\n",
            "   Gender_Female  Gender_Male  Device_Laptop  Device_Smart TV  \\\n",
            "0              0            1              0                0   \n",
            "1              1            0              0                0   \n",
            "2              0            1              0                1   \n",
            "3              1            0              1                0   \n",
            "4              0            1              0                0   \n",
            "\n",
            "   Device_Smartphone  Device_Tablet  Plan Duration_1 Month  \n",
            "0                  1              0                      1  \n",
            "1                  0              1                      1  \n",
            "2                  0              0                      1  \n",
            "3                  0              0                      1  \n",
            "4                  1              0                      1  \n",
            "\n",
            "[5 rows x 349 columns]\n"
          ]
        }
      ]
    },
    {
      "cell_type": "markdown",
      "source": [
        "4. Feature selection"
      ],
      "metadata": {
        "id": "28WqKB2uYZj0"
      }
    },
    {
      "cell_type": "code",
      "source": [
        "nf_data_dummies = pd.get_dummies(nf_data, drop_first=True)\n",
        "nf_data_dummies['revenue'] = (nf_data['Monthly Revenue'] > 0).astype(int)\n",
        "\n",
        "x_class = nf_data_dummies.drop(['Age', 'Monthly Revenue'], axis=1)\n",
        "y_class = nf_data_dummies['revenue']\n",
        "\n",
        "x_train_class, x_test_class, y_train_class, y_test_class = train_test_split(x_class, y_class, test_size=0.2, random_state=42)"
      ],
      "metadata": {
        "id": "567kvSz_YgnX"
      },
      "execution_count": null,
      "outputs": []
    },
    {
      "cell_type": "markdown",
      "source": [
        "II. Explanatory Data Analysis (EDA)"
      ],
      "metadata": {
        "id": "zxtc0GqLbGnW"
      }
    },
    {
      "cell_type": "markdown",
      "source": [
        "1. Descriptive statistics"
      ],
      "metadata": {
        "id": "69xBCxnQbPde"
      }
    },
    {
      "cell_type": "code",
      "source": [
        "nf_data.describe()"
      ],
      "metadata": {
        "colab": {
          "base_uri": "https://localhost:8080/",
          "height": 301
        },
        "id": "xmz1-i0fbXKL",
        "outputId": "f58d616f-079d-438c-94f3-1e933a5f60d4"
      },
      "execution_count": null,
      "outputs": [
        {
          "output_type": "execute_result",
          "data": {
            "text/plain": [
              "          User ID  Monthly Revenue          Age\n",
              "count  2500.00000      2500.000000  2500.000000\n",
              "mean   1250.50000        12.508400    38.795600\n",
              "std     721.83216         1.686851     7.171778\n",
              "min       1.00000        10.000000    26.000000\n",
              "25%     625.75000        11.000000    32.000000\n",
              "50%    1250.50000        12.000000    39.000000\n",
              "75%    1875.25000        14.000000    45.000000\n",
              "max    2500.00000        15.000000    51.000000"
            ],
            "text/html": [
              "\n",
              "  <div id=\"df-f8f9f104-20ad-4cd5-bbd7-12bd74052adf\" class=\"colab-df-container\">\n",
              "    <div>\n",
              "<style scoped>\n",
              "    .dataframe tbody tr th:only-of-type {\n",
              "        vertical-align: middle;\n",
              "    }\n",
              "\n",
              "    .dataframe tbody tr th {\n",
              "        vertical-align: top;\n",
              "    }\n",
              "\n",
              "    .dataframe thead th {\n",
              "        text-align: right;\n",
              "    }\n",
              "</style>\n",
              "<table border=\"1\" class=\"dataframe\">\n",
              "  <thead>\n",
              "    <tr style=\"text-align: right;\">\n",
              "      <th></th>\n",
              "      <th>User ID</th>\n",
              "      <th>Monthly Revenue</th>\n",
              "      <th>Age</th>\n",
              "    </tr>\n",
              "  </thead>\n",
              "  <tbody>\n",
              "    <tr>\n",
              "      <th>count</th>\n",
              "      <td>2500.00000</td>\n",
              "      <td>2500.000000</td>\n",
              "      <td>2500.000000</td>\n",
              "    </tr>\n",
              "    <tr>\n",
              "      <th>mean</th>\n",
              "      <td>1250.50000</td>\n",
              "      <td>12.508400</td>\n",
              "      <td>38.795600</td>\n",
              "    </tr>\n",
              "    <tr>\n",
              "      <th>std</th>\n",
              "      <td>721.83216</td>\n",
              "      <td>1.686851</td>\n",
              "      <td>7.171778</td>\n",
              "    </tr>\n",
              "    <tr>\n",
              "      <th>min</th>\n",
              "      <td>1.00000</td>\n",
              "      <td>10.000000</td>\n",
              "      <td>26.000000</td>\n",
              "    </tr>\n",
              "    <tr>\n",
              "      <th>25%</th>\n",
              "      <td>625.75000</td>\n",
              "      <td>11.000000</td>\n",
              "      <td>32.000000</td>\n",
              "    </tr>\n",
              "    <tr>\n",
              "      <th>50%</th>\n",
              "      <td>1250.50000</td>\n",
              "      <td>12.000000</td>\n",
              "      <td>39.000000</td>\n",
              "    </tr>\n",
              "    <tr>\n",
              "      <th>75%</th>\n",
              "      <td>1875.25000</td>\n",
              "      <td>14.000000</td>\n",
              "      <td>45.000000</td>\n",
              "    </tr>\n",
              "    <tr>\n",
              "      <th>max</th>\n",
              "      <td>2500.00000</td>\n",
              "      <td>15.000000</td>\n",
              "      <td>51.000000</td>\n",
              "    </tr>\n",
              "  </tbody>\n",
              "</table>\n",
              "</div>\n",
              "    <div class=\"colab-df-buttons\">\n",
              "\n",
              "  <div class=\"colab-df-container\">\n",
              "    <button class=\"colab-df-convert\" onclick=\"convertToInteractive('df-f8f9f104-20ad-4cd5-bbd7-12bd74052adf')\"\n",
              "            title=\"Convert this dataframe to an interactive table.\"\n",
              "            style=\"display:none;\">\n",
              "\n",
              "  <svg xmlns=\"http://www.w3.org/2000/svg\" height=\"24px\" viewBox=\"0 -960 960 960\">\n",
              "    <path d=\"M120-120v-720h720v720H120Zm60-500h600v-160H180v160Zm220 220h160v-160H400v160Zm0 220h160v-160H400v160ZM180-400h160v-160H180v160Zm440 0h160v-160H620v160ZM180-180h160v-160H180v160Zm440 0h160v-160H620v160Z\"/>\n",
              "  </svg>\n",
              "    </button>\n",
              "\n",
              "  <style>\n",
              "    .colab-df-container {\n",
              "      display:flex;\n",
              "      gap: 12px;\n",
              "    }\n",
              "\n",
              "    .colab-df-convert {\n",
              "      background-color: #E8F0FE;\n",
              "      border: none;\n",
              "      border-radius: 50%;\n",
              "      cursor: pointer;\n",
              "      display: none;\n",
              "      fill: #1967D2;\n",
              "      height: 32px;\n",
              "      padding: 0 0 0 0;\n",
              "      width: 32px;\n",
              "    }\n",
              "\n",
              "    .colab-df-convert:hover {\n",
              "      background-color: #E2EBFA;\n",
              "      box-shadow: 0px 1px 2px rgba(60, 64, 67, 0.3), 0px 1px 3px 1px rgba(60, 64, 67, 0.15);\n",
              "      fill: #174EA6;\n",
              "    }\n",
              "\n",
              "    .colab-df-buttons div {\n",
              "      margin-bottom: 4px;\n",
              "    }\n",
              "\n",
              "    [theme=dark] .colab-df-convert {\n",
              "      background-color: #3B4455;\n",
              "      fill: #D2E3FC;\n",
              "    }\n",
              "\n",
              "    [theme=dark] .colab-df-convert:hover {\n",
              "      background-color: #434B5C;\n",
              "      box-shadow: 0px 1px 3px 1px rgba(0, 0, 0, 0.15);\n",
              "      filter: drop-shadow(0px 1px 2px rgba(0, 0, 0, 0.3));\n",
              "      fill: #FFFFFF;\n",
              "    }\n",
              "  </style>\n",
              "\n",
              "    <script>\n",
              "      const buttonEl =\n",
              "        document.querySelector('#df-f8f9f104-20ad-4cd5-bbd7-12bd74052adf button.colab-df-convert');\n",
              "      buttonEl.style.display =\n",
              "        google.colab.kernel.accessAllowed ? 'block' : 'none';\n",
              "\n",
              "      async function convertToInteractive(key) {\n",
              "        const element = document.querySelector('#df-f8f9f104-20ad-4cd5-bbd7-12bd74052adf');\n",
              "        const dataTable =\n",
              "          await google.colab.kernel.invokeFunction('convertToInteractive',\n",
              "                                                    [key], {});\n",
              "        if (!dataTable) return;\n",
              "\n",
              "        const docLinkHtml = 'Like what you see? Visit the ' +\n",
              "          '<a target=\"_blank\" href=https://colab.research.google.com/notebooks/data_table.ipynb>data table notebook</a>'\n",
              "          + ' to learn more about interactive tables.';\n",
              "        element.innerHTML = '';\n",
              "        dataTable['output_type'] = 'display_data';\n",
              "        await google.colab.output.renderOutput(dataTable, element);\n",
              "        const docLink = document.createElement('div');\n",
              "        docLink.innerHTML = docLinkHtml;\n",
              "        element.appendChild(docLink);\n",
              "      }\n",
              "    </script>\n",
              "  </div>\n",
              "\n",
              "\n",
              "<div id=\"df-18a923b4-a938-4496-9bae-a25ebf39c43d\">\n",
              "  <button class=\"colab-df-quickchart\" onclick=\"quickchart('df-18a923b4-a938-4496-9bae-a25ebf39c43d')\"\n",
              "            title=\"Suggest charts\"\n",
              "            style=\"display:none;\">\n",
              "\n",
              "<svg xmlns=\"http://www.w3.org/2000/svg\" height=\"24px\"viewBox=\"0 0 24 24\"\n",
              "     width=\"24px\">\n",
              "    <g>\n",
              "        <path d=\"M19 3H5c-1.1 0-2 .9-2 2v14c0 1.1.9 2 2 2h14c1.1 0 2-.9 2-2V5c0-1.1-.9-2-2-2zM9 17H7v-7h2v7zm4 0h-2V7h2v10zm4 0h-2v-4h2v4z\"/>\n",
              "    </g>\n",
              "</svg>\n",
              "  </button>\n",
              "\n",
              "<style>\n",
              "  .colab-df-quickchart {\n",
              "      --bg-color: #E8F0FE;\n",
              "      --fill-color: #1967D2;\n",
              "      --hover-bg-color: #E2EBFA;\n",
              "      --hover-fill-color: #174EA6;\n",
              "      --disabled-fill-color: #AAA;\n",
              "      --disabled-bg-color: #DDD;\n",
              "  }\n",
              "\n",
              "  [theme=dark] .colab-df-quickchart {\n",
              "      --bg-color: #3B4455;\n",
              "      --fill-color: #D2E3FC;\n",
              "      --hover-bg-color: #434B5C;\n",
              "      --hover-fill-color: #FFFFFF;\n",
              "      --disabled-bg-color: #3B4455;\n",
              "      --disabled-fill-color: #666;\n",
              "  }\n",
              "\n",
              "  .colab-df-quickchart {\n",
              "    background-color: var(--bg-color);\n",
              "    border: none;\n",
              "    border-radius: 50%;\n",
              "    cursor: pointer;\n",
              "    display: none;\n",
              "    fill: var(--fill-color);\n",
              "    height: 32px;\n",
              "    padding: 0;\n",
              "    width: 32px;\n",
              "  }\n",
              "\n",
              "  .colab-df-quickchart:hover {\n",
              "    background-color: var(--hover-bg-color);\n",
              "    box-shadow: 0 1px 2px rgba(60, 64, 67, 0.3), 0 1px 3px 1px rgba(60, 64, 67, 0.15);\n",
              "    fill: var(--button-hover-fill-color);\n",
              "  }\n",
              "\n",
              "  .colab-df-quickchart-complete:disabled,\n",
              "  .colab-df-quickchart-complete:disabled:hover {\n",
              "    background-color: var(--disabled-bg-color);\n",
              "    fill: var(--disabled-fill-color);\n",
              "    box-shadow: none;\n",
              "  }\n",
              "\n",
              "  .colab-df-spinner {\n",
              "    border: 2px solid var(--fill-color);\n",
              "    border-color: transparent;\n",
              "    border-bottom-color: var(--fill-color);\n",
              "    animation:\n",
              "      spin 1s steps(1) infinite;\n",
              "  }\n",
              "\n",
              "  @keyframes spin {\n",
              "    0% {\n",
              "      border-color: transparent;\n",
              "      border-bottom-color: var(--fill-color);\n",
              "      border-left-color: var(--fill-color);\n",
              "    }\n",
              "    20% {\n",
              "      border-color: transparent;\n",
              "      border-left-color: var(--fill-color);\n",
              "      border-top-color: var(--fill-color);\n",
              "    }\n",
              "    30% {\n",
              "      border-color: transparent;\n",
              "      border-left-color: var(--fill-color);\n",
              "      border-top-color: var(--fill-color);\n",
              "      border-right-color: var(--fill-color);\n",
              "    }\n",
              "    40% {\n",
              "      border-color: transparent;\n",
              "      border-right-color: var(--fill-color);\n",
              "      border-top-color: var(--fill-color);\n",
              "    }\n",
              "    60% {\n",
              "      border-color: transparent;\n",
              "      border-right-color: var(--fill-color);\n",
              "    }\n",
              "    80% {\n",
              "      border-color: transparent;\n",
              "      border-right-color: var(--fill-color);\n",
              "      border-bottom-color: var(--fill-color);\n",
              "    }\n",
              "    90% {\n",
              "      border-color: transparent;\n",
              "      border-bottom-color: var(--fill-color);\n",
              "    }\n",
              "  }\n",
              "</style>\n",
              "\n",
              "  <script>\n",
              "    async function quickchart(key) {\n",
              "      const quickchartButtonEl =\n",
              "        document.querySelector('#' + key + ' button');\n",
              "      quickchartButtonEl.disabled = true;  // To prevent multiple clicks.\n",
              "      quickchartButtonEl.classList.add('colab-df-spinner');\n",
              "      try {\n",
              "        const charts = await google.colab.kernel.invokeFunction(\n",
              "            'suggestCharts', [key], {});\n",
              "      } catch (error) {\n",
              "        console.error('Error during call to suggestCharts:', error);\n",
              "      }\n",
              "      quickchartButtonEl.classList.remove('colab-df-spinner');\n",
              "      quickchartButtonEl.classList.add('colab-df-quickchart-complete');\n",
              "    }\n",
              "    (() => {\n",
              "      let quickchartButtonEl =\n",
              "        document.querySelector('#df-18a923b4-a938-4496-9bae-a25ebf39c43d button');\n",
              "      quickchartButtonEl.style.display =\n",
              "        google.colab.kernel.accessAllowed ? 'block' : 'none';\n",
              "    })();\n",
              "  </script>\n",
              "</div>\n",
              "    </div>\n",
              "  </div>\n"
            ],
            "application/vnd.google.colaboratory.intrinsic+json": {
              "type": "dataframe",
              "summary": "{\n  \"name\": \"nf_data\",\n  \"rows\": 8,\n  \"fields\": [\n    {\n      \"column\": \"User ID\",\n      \"properties\": {\n        \"dtype\": \"number\",\n        \"std\": 900.7073161176459,\n        \"min\": 1.0,\n        \"max\": 2500.0,\n        \"num_unique_values\": 6,\n        \"samples\": [\n          2500.0,\n          1250.5,\n          1875.25\n        ],\n        \"semantic_type\": \"\",\n        \"description\": \"\"\n      }\n    },\n    {\n      \"column\": \"Monthly Revenue\",\n      \"properties\": {\n        \"dtype\": \"number\",\n        \"std\": 880.0444435915687,\n        \"min\": 1.6868513944775396,\n        \"max\": 2500.0,\n        \"num_unique_values\": 8,\n        \"samples\": [\n          12.5084,\n          12.0,\n          2500.0\n        ],\n        \"semantic_type\": \"\",\n        \"description\": \"\"\n      }\n    },\n    {\n      \"column\": \"Age\",\n      \"properties\": {\n        \"dtype\": \"number\",\n        \"std\": 871.9158499704185,\n        \"min\": 7.171777631644689,\n        \"max\": 2500.0,\n        \"num_unique_values\": 8,\n        \"samples\": [\n          38.7956,\n          39.0,\n          2500.0\n        ],\n        \"semantic_type\": \"\",\n        \"description\": \"\"\n      }\n    }\n  ]\n}"
            }
          },
          "metadata": {},
          "execution_count": 797
        }
      ]
    },
    {
      "cell_type": "markdown",
      "source": [
        "2. Visualizations"
      ],
      "metadata": {
        "id": "_tB9ZqJMbkD7"
      }
    },
    {
      "cell_type": "code",
      "source": [
        "plt.figure(figsize=(8,6))\n",
        "sns.histplot(nf_data['Monthly Revenue'], bins=30, kde=True)\n",
        "plt.title('Distribution of Monthly Revenue')\n",
        "plt.xlabel('Monthly Revenue')\n",
        "plt.ylabel('Frequency')\n",
        "plt.show()\n",
        "\n",
        "plt.figure(figsize=(10,6))\n",
        "sns.countplot(x='Age', hue='Gender', data=nf_data, palette='Set2')\n",
        "plt.title('User Demographics by Age & Gender')\n",
        "plt.xlabel('Age')\n",
        "plt.ylabel('Count')\n",
        "plt.show()\n",
        "\n",
        "plt.figure(figsize=(8,6))\n",
        "sns.countplot(x='Subscription Type', data=nf_data, color='salmon')\n",
        "plt.title('Distribution of Subscription Types')\n",
        "plt.xlabel('Subscription Type')\n",
        "plt.ylabel('Count')\n",
        "plt.show()\n",
        "\n",
        "plt.figure(figsize=(12,8))\n",
        "sns.countplot(y='Country', data=nf_data, order=nf_data['Country'].value_counts().index, palette='viridis')\n",
        "plt.title('Distribution of Countries')\n",
        "plt.xlabel('Count')\n",
        "plt.ylabel('Country')\n",
        "plt.show()\n"
      ],
      "metadata": {
        "colab": {
          "base_uri": "https://localhost:8080/",
          "height": 1000
        },
        "id": "Sawj4iyAbrx3",
        "outputId": "74911165-a94e-4090-d449-69df80912a5c"
      },
      "execution_count": null,
      "outputs": [
        {
          "output_type": "display_data",
          "data": {
            "text/plain": [
              "<Figure size 800x600 with 1 Axes>"
            ],
            "image/png": "[encoded data removed]"
          },
          "metadata": {}
        },
        {
          "output_type": "display_data",
          "data": {
            "text/plain": [
              "<Figure size 1000x600 with 1 Axes>"
            ],
            "image/png": "[encoded data removed]"
          },
          "metadata": {}
        },
        {
          "output_type": "display_data",
          "data": {
            "text/plain": [
              "<Figure size 800x600 with 1 Axes>"
            ],
            "image/png": "[encoded data removed]"
          },
          "metadata": {}
        },
        {
          "output_type": "display_data",
          "data": {
            "text/plain": [
              "<Figure size 1200x800 with 1 Axes>"
            ],
            "image/png": "[encoded data removed]"
          },
          "metadata": {}
        }
      ]
    },
    {
      "cell_type": "markdown",
      "source": [
        "3. Linear Regression Model (Predicting Monthly Revenue)"
      ],
      "metadata": {
        "id": "vQc5OR4Kh8vI"
      }
    },
    {
      "cell_type": "markdown",
      "source": [
        "1. Build the model"
      ],
      "metadata": {
        "id": "sVNRQqjwoD1X"
      }
    },
    {
      "cell_type": "code",
      "source": [
        "x = pd.get_dummies(nf_data.drop(columns=['Monthly Revenue']))\n",
        "y = nf_data['Monthly Revenue']\n"
      ],
      "metadata": {
        "id": "TqGNlgiPZqD3"
      },
      "execution_count": null,
      "outputs": []
    },
    {
      "cell_type": "code",
      "source": [
        "x = nf_data[['Monthly Revenue']]\n",
        "y = nf_data['Age']\n",
        "\n",
        "x_train, x_test, y_train, y_test = train_test_split(x, y, test_size=0.2, random_state=42)\n",
        "\n",
        "scaler = StandardScaler()\n",
        "x_train_scaled = scaler.fit_transform(x_train)\n",
        "x_test_scaled = scaler.transform(x_test)\n",
        "\n",
        "model = LinearRegression()\n",
        "model.fit(x,y)\n",
        "\n",
        "slope = model.coef_[0]\n",
        "intercept = model.intercept_\n",
        "\n",
        "print(\"Slope\", slope)\n",
        "print(\"Intercept\", intercept)\n",
        "\n",
        "y_pred = model.predict(x_test_scaled)\n",
        "\n",
        "plt.scatter(x, y, color='purple', label='Actual Data')\n",
        "plt.plot(x, model.predict(x), color='tomato', label='Regression Line')\n",
        "plt.xlabel('Monthly Revenue')\n",
        "plt.ylabel('Age')\n",
        "plt.title('Linear Regression to Predict the Age based on Monthly Revenue')\n",
        "plt.legend()\n",
        "plt.show()\n"
      ],
      "metadata": {
        "colab": {
          "base_uri": "https://localhost:8080/",
          "height": 507
        },
        "id": "TACeyon7iR4e",
        "outputId": "d6591044-d005-4876-a940-28ec0e2615f5"
      },
      "execution_count": null,
      "outputs": [
        {
          "output_type": "stream",
          "name": "stdout",
          "text": [
            "Slope -0.08989220320414054\n",
            "Intercept 39.92000763455867\n"
          ]
        },
        {
          "output_type": "display_data",
          "data": {
            "text/plain": [
              "<Figure size 640x480 with 1 Axes>"
            ],
            "image/png": "[encoded data removed]"
          },
          "metadata": {}
        }
      ]
    },
    {
      "cell_type": "markdown",
      "source": [
        "2. Evaluate the model"
      ],
      "metadata": {
        "id": "N73kTs59oC4j"
      }
    },
    {
      "cell_type": "code",
      "source": [
        "\n",
        "r2 = r2_score(y_test, y_pred)\n",
        "rmse = mean_squared_error(y_test, y_pred, squared=False)\n",
        "print(\"R-squared:\", r2)\n",
        "print(\"Root Mean Squared Error:\", rmse)"
      ],
      "metadata": {
        "colab": {
          "base_uri": "https://localhost:8080/"
        },
        "id": "_0FIGuTmoJEm",
        "outputId": "58dc9851-54ca-4fdd-b6ad-98c3f3248784"
      },
      "execution_count": null,
      "outputs": [
        {
          "output_type": "stream",
          "name": "stdout",
          "text": [
            "R-squared: -0.025588326207893086\n",
            "Root Mean Squared Error: 7.265242264709627\n"
          ]
        }
      ]
    },
    {
      "cell_type": "markdown",
      "source": [
        "IV. Logistic Regression Model (Predicting Customer Feedback"
      ],
      "metadata": {
        "id": "S3GHrLDsoYl9"
      }
    },
    {
      "cell_type": "markdown",
      "source": [
        "1. Build the model"
      ],
      "metadata": {
        "id": "o8-92Qqgol-s"
      }
    },
    {
      "cell_type": "code",
      "source": [
        "model = LogisticRegression(max_iter=1000)\n",
        "model.fit(x_train_scaled, y_train)"
      ],
      "metadata": {
        "colab": {
          "base_uri": "https://localhost:8080/",
          "height": 75
        },
        "id": "ttiPtJdkonvQ",
        "outputId": "9d68c4ed-7ed6-4e4a-92a7-9739b70a2370"
      },
      "execution_count": null,
      "outputs": [
        {
          "output_type": "execute_result",
          "data": {
            "text/plain": [
              "LogisticRegression(max_iter=1000)"
            ],
            "text/html": [
              "<style>#sk-container-id-39 {color: black;background-color: white;}#sk-container-id-39 pre{padding: 0;}#sk-container-id-39 div.sk-toggleable {background-color: white;}#sk-container-id-39 label.sk-toggleable__label {cursor: pointer;display: block;width: 100%;margin-bottom: 0;padding: 0.3em;box-sizing: border-box;text-align: center;}#sk-container-id-39 label.sk-toggleable__label-arrow:before {content: \"▸\";float: left;margin-right: 0.25em;color: #696969;}#sk-container-id-39 label.sk-toggleable__label-arrow:hover:before {color: black;}#sk-container-id-39 div.sk-estimator:hover label.sk-toggleable__label-arrow:before {color: black;}#sk-container-id-39 div.sk-toggleable__content {max-height: 0;max-width: 0;overflow: hidden;text-align: left;background-color: #f0f8ff;}#sk-container-id-39 div.sk-toggleable__content pre {margin: 0.2em;color: black;border-radius: 0.25em;background-color: #f0f8ff;}#sk-container-id-39 input.sk-toggleable__control:checked~div.sk-toggleable__content {max-height: 200px;max-width: 100%;overflow: auto;}#sk-container-id-39 input.sk-toggleable__control:checked~label.sk-toggleable__label-arrow:before {content: \"▾\";}#sk-container-id-39 div.sk-estimator input.sk-toggleable__control:checked~label.sk-toggleable__label {background-color: #d4ebff;}#sk-container-id-39 div.sk-label input.sk-toggleable__control:checked~label.sk-toggleable__label {background-color: #d4ebff;}#sk-container-id-39 input.sk-hidden--visually {border: 0;clip: rect(1px 1px 1px 1px);clip: rect(1px, 1px, 1px, 1px);height: 1px;margin: -1px;overflow: hidden;padding: 0;position: absolute;width: 1px;}#sk-container-id-39 div.sk-estimator {font-family: monospace;background-color: #f0f8ff;border: 1px dotted black;border-radius: 0.25em;box-sizing: border-box;margin-bottom: 0.5em;}#sk-container-id-39 div.sk-estimator:hover {background-color: #d4ebff;}#sk-container-id-39 div.sk-parallel-item::after {content: \"\";width: 100%;border-bottom: 1px solid gray;flex-grow: 1;}#sk-container-id-39 div.sk-label:hover label.sk-toggleable__label {background-color: #d4ebff;}#sk-container-id-39 div.sk-serial::before {content: \"\";position: absolute;border-left: 1px solid gray;box-sizing: border-box;top: 0;bottom: 0;left: 50%;z-index: 0;}#sk-container-id-39 div.sk-serial {display: flex;flex-direction: column;align-items: center;background-color: white;padding-right: 0.2em;padding-left: 0.2em;position: relative;}#sk-container-id-39 div.sk-item {position: relative;z-index: 1;}#sk-container-id-39 div.sk-parallel {display: flex;align-items: stretch;justify-content: center;background-color: white;position: relative;}#sk-container-id-39 div.sk-item::before, #sk-container-id-39 div.sk-parallel-item::before {content: \"\";position: absolute;border-left: 1px solid gray;box-sizing: border-box;top: 0;bottom: 0;left: 50%;z-index: -1;}#sk-container-id-39 div.sk-parallel-item {display: flex;flex-direction: column;z-index: 1;position: relative;background-color: white;}#sk-container-id-39 div.sk-parallel-item:first-child::after {align-self: flex-end;width: 50%;}#sk-container-id-39 div.sk-parallel-item:last-child::after {align-self: flex-start;width: 50%;}#sk-container-id-39 div.sk-parallel-item:only-child::after {width: 0;}#sk-container-id-39 div.sk-dashed-wrapped {border: 1px dashed gray;margin: 0 0.4em 0.5em 0.4em;box-sizing: border-box;padding-bottom: 0.4em;background-color: white;}#sk-container-id-39 div.sk-label label {font-family: monospace;font-weight: bold;display: inline-block;line-height: 1.2em;}#sk-container-id-39 div.sk-label-container {text-align: center;}#sk-container-id-39 div.sk-container {/* jupyter's `normalize.less` sets `[hidden] { display: none; }` but bootstrap.min.css set `[hidden] { display: none !important; }` so we also need the `!important` here to be able to override the default hidden behavior on the sphinx rendered scikit-learn.org. See: https://github.com/scikit-learn/scikit-learn/issues/21755 */display: inline-block !important;position: relative;}#sk-container-id-39 div.sk-text-repr-fallback {display: none;}</style><div id=\"sk-container-id-39\" class=\"sk-top-container\"><div class=\"sk-text-repr-fallback\"><pre>LogisticRegression(max_iter=1000)</pre><b>In a Jupyter environment, please rerun this cell to show the HTML representation or trust the notebook. <br />On GitHub, the HTML representation is unable to render, please try loading this page with nbviewer.org.</b></div><div class=\"sk-container\" hidden><div class=\"sk-item\"><div class=\"sk-estimator sk-toggleable\"><input class=\"sk-toggleable__control sk-hidden--visually\" id=\"sk-estimator-id-39\" type=\"checkbox\" checked><label for=\"sk-estimator-id-39\" class=\"sk-toggleable__label sk-toggleable__label-arrow\">LogisticRegression</label><div class=\"sk-toggleable__content\"><pre>LogisticRegression(max_iter=1000)</pre></div></div></div></div></div>"
            ]
          },
          "metadata": {},
          "execution_count": 802
        }
      ]
    },
    {
      "cell_type": "markdown",
      "source": [
        "2. Evaluate the model"
      ],
      "metadata": {
        "id": "ZbNLx0afoptc"
      }
    },
    {
      "cell_type": "code",
      "source": [
        "y_pred_binary = (y_pred > 0.5).astype(int)\n",
        "\n",
        "y_pred = model.predict(x_test_scaled)\n",
        "accuracy = accuracy_score(y_test, y_pred)\n",
        "conf_matrix = confusion_matrix(y_test, y_pred)\n",
        "class_report = classification_report(y_test, y_pred)\n",
        "\n",
        "print(f\"Accuracy: {accuracy}\")\n",
        "print(\"Confusion Matrix: \")\n",
        "print(conf_matrix)\n",
        "print(\"Classification Report\")\n",
        "print(class_report)"
      ],
      "metadata": {
        "colab": {
          "base_uri": "https://localhost:8080/"
        },
        "id": "65cWxQiGosLD",
        "outputId": "e9eaf3af-4d31-472e-ca23-fac7b1fce73f"
      },
      "execution_count": null,
      "outputs": [
        {
          "output_type": "stream",
          "name": "stdout",
          "text": [
            "Accuracy: 0.036\n",
            "Confusion Matrix: \n",
            "[[ 0  0  0  8  1  0  0  0  0  0  0  0  2  0  0  0  0  0  0  0  0  6  0  0\n",
            "   0]\n",
            " [ 0  0  0 13  4  0  0  0  0  0  0  0  3  0  0  0  0  0  0  0  0  8  0  0\n",
            "   0]\n",
            " [ 0  0  0  9  2  0  0  0  0  0  0  0  5  0  0  0  0  0  0  0  0  3  0  0\n",
            "   0]\n",
            " [ 0  0  0  9  3  0  0  0  0  0  0  0  0  0  0  0  0  0  0  0  0  4  0  0\n",
            "   0]\n",
            " [ 0  0  0  9  4  0  0  0  0  0  0  0  5  0  0  0  0  0  0  0  0  3  0  0\n",
            "   0]\n",
            " [ 0  0  0  6  5  0  0  0  0  0  0  0  6  0  0  0  0  0  0  0  0  4  0  0\n",
            "   0]\n",
            " [ 0  0  0 12  0  0  0  0  0  0  0  0  5  0  0  0  0  0  0  0  0  5  0  0\n",
            "   0]\n",
            " [ 0  0  0 10  2  0  0  0  0  0  0  0  3  0  0  0  0  0  0  0  0  4  0  0\n",
            "   0]\n",
            " [ 0  0  0  5  4  0  0  0  0  0  0  0  4  0  0  0  0  0  0  0  0  2  0  0\n",
            "   0]\n",
            " [ 0  0  0  8  6  0  0  0  0  0  0  0  6  0  0  0  0  0  0  0  0  3  0  0\n",
            "   0]\n",
            " [ 0  0  0 13  4  0  0  0  0  0  0  0  7  0  0  0  0  0  0  0  0  6  0  0\n",
            "   0]\n",
            " [ 0  0  0 11  2  0  0  0  0  0  0  0  4  0  0  0  0  0  0  0  0  2  0  0\n",
            "   0]\n",
            " [ 0  0  0 12  1  0  0  0  0  0  0  0  2  0  0  0  0  0  0  0  0  0  0  0\n",
            "   0]\n",
            " [ 0  0  0  9  3  0  0  0  0  0  0  0  3  0  0  0  0  0  0  0  0  6  0  0\n",
            "   0]\n",
            " [ 0  0  0 15  4  0  0  0  0  0  0  0  4  0  0  0  0  0  0  0  0  1  0  0\n",
            "   0]\n",
            " [ 0  0  0 10  4  0  0  0  0  0  0  0  6  0  0  0  0  0  0  0  0  4  0  0\n",
            "   0]\n",
            " [ 0  0  0  9  4  0  0  0  0  0  0  0  2  0  0  0  0  0  0  0  0  2  0  0\n",
            "   0]\n",
            " [ 0  0  0  7  0  0  0  0  0  0  0  0  3  0  0  0  0  0  0  0  0  3  0  0\n",
            "   0]\n",
            " [ 0  0  0 10  3  0  0  0  0  0  0  0  2  0  0  0  0  0  0  0  0  1  0  0\n",
            "   0]\n",
            " [ 0  0  0 12  5  0  0  0  0  0  0  0  7  0  0  0  0  0  0  0  0  5  0  0\n",
            "   0]\n",
            " [ 0  0  0 10  0  0  0  0  0  0  0  0  4  0  0  0  0  0  0  0  0  3  0  0\n",
            "   0]\n",
            " [ 0  0  0  9  1  0  0  0  0  0  0  0  1  0  0  0  0  0  0  0  0  3  0  0\n",
            "   0]\n",
            " [ 0  0  0  8  6  0  0  0  0  0  0  0  5  0  0  0  0  0  0  0  0  1  0  0\n",
            "   0]\n",
            " [ 0  0  0  7  6  0  0  0  0  0  0  0  2  0  0  0  0  0  0  0  0  3  0  0\n",
            "   0]\n",
            " [ 0  0  0 12  5  0  0  0  0  0  0  0  2  0  0  0  0  0  0  0  0  3  0  0\n",
            "   0]]\n",
            "Classification Report\n",
            "              precision    recall  f1-score   support\n",
            "\n",
            "          27       0.00      0.00      0.00        17\n",
            "          28       0.00      0.00      0.00        28\n",
            "          29       0.00      0.00      0.00        19\n",
            "          30       0.04      0.56      0.07        16\n",
            "          31       0.05      0.19      0.08        21\n",
            "          32       0.00      0.00      0.00        21\n",
            "          33       0.00      0.00      0.00        22\n",
            "          34       0.00      0.00      0.00        19\n",
            "          35       0.00      0.00      0.00        15\n",
            "          36       0.00      0.00      0.00        23\n",
            "          37       0.00      0.00      0.00        30\n",
            "          38       0.00      0.00      0.00        19\n",
            "          39       0.02      0.13      0.04        15\n",
            "          40       0.00      0.00      0.00        21\n",
            "          41       0.00      0.00      0.00        24\n",
            "          42       0.00      0.00      0.00        24\n",
            "          43       0.00      0.00      0.00        17\n",
            "          44       0.00      0.00      0.00        13\n",
            "          45       0.00      0.00      0.00        16\n",
            "          46       0.00      0.00      0.00        29\n",
            "          47       0.00      0.00      0.00        17\n",
            "          48       0.04      0.21      0.06        14\n",
            "          49       0.00      0.00      0.00        20\n",
            "          50       0.00      0.00      0.00        18\n",
            "          51       0.00      0.00      0.00        22\n",
            "\n",
            "    accuracy                           0.04       500\n",
            "   macro avg       0.01      0.04      0.01       500\n",
            "weighted avg       0.00      0.04      0.01       500\n",
            "\n"
          ]
        }
      ]
    },
    {
      "cell_type": "markdown",
      "source": [
        "**5. Comparative Analysis and Evaluation**"
      ],
      "metadata": {
        "id": "xS6L-awG5Ual"
      }
    },
    {
      "cell_type": "markdown",
      "source": [
        "***Linear Regression***"
      ],
      "metadata": {
        "id": "RYTSLqS76fcL"
      }
    },
    {
      "cell_type": "markdown",
      "source": [
        "1. Feature importance"
      ],
      "metadata": {
        "id": "GmZsgpbG5cTM"
      }
    },
    {
      "cell_type": "code",
      "source": [
        "feature_importance = pd.DataFrame({'Feature': x.columns, 'Coefficient': model.coef_[0]})\n",
        "feature_importance['Abs_Coefficient'] = abs(feature_importance['Coefficient'])\n",
        "feature_importance.sort_values(by='Abs_Coefficient', ascending=False, inplace=True)\n",
        "feature_importance.drop(columns=['Abs_Coefficient'], inplace=True)\n",
        "\n",
        "print(feature_importance)"
      ],
      "metadata": {
        "colab": {
          "base_uri": "https://localhost:8080/"
        },
        "id": "-DOr8jBa5lLI",
        "outputId": "44f9a512-45b8-4c4f-b5e2-ea540feec3bb"
      },
      "execution_count": null,
      "outputs": [
        {
          "output_type": "stream",
          "name": "stdout",
          "text": [
            "           Feature  Coefficient\n",
            "0  Monthly Revenue     0.764456\n"
          ]
        }
      ]
    },
    {
      "cell_type": "markdown",
      "source": [
        "2. Insights"
      ],
      "metadata": {
        "id": "QoPzTztm5zy_"
      }
    },
    {
      "cell_type": "code",
      "source": [
        "revenue_predictions = pd.DataFrame({'Actual Revenue': y_test, 'Predicted Revenue': y_pred})\n",
        "print(revenue_predictions.head())"
      ],
      "metadata": {
        "colab": {
          "base_uri": "https://localhost:8080/"
        },
        "id": "yZmTEUg-54PP",
        "outputId": "8a8f262a-7b21-45a9-b0a5-508864916e2a"
      },
      "execution_count": null,
      "outputs": [
        {
          "output_type": "stream",
          "name": "stdout",
          "text": [
            "      Actual Revenue  Predicted Revenue\n",
            "1447              33                 30\n",
            "1114              33                 30\n",
            "1064              33                 30\n",
            "2287              50                 30\n",
            "1537              44                 48\n"
          ]
        }
      ]
    },
    {
      "cell_type": "markdown",
      "source": [
        "***Logistic Regression***"
      ],
      "metadata": {
        "id": "JtC5V4Od6Ycq"
      }
    },
    {
      "cell_type": "markdown",
      "source": [
        "1. Feature importance"
      ],
      "metadata": {
        "id": "vgc0qb_zktq5"
      }
    },
    {
      "cell_type": "code",
      "source": [
        "feature_importance = pd.DataFrame({'Feature': x.columns, 'Coefficient': model.coef_[0]})\n",
        "feature_importance['Odds Ratio'] = np.exp(feature_importance['Coefficient'])\n",
        "feature_importance.sort_values(by='Odds Ratio', ascending=False, inplace=True)\n",
        "print(feature_importance)"
      ],
      "metadata": {
        "colab": {
          "base_uri": "https://localhost:8080/"
        },
        "id": "ousdt0Z86auW",
        "outputId": "19b3461f-2a72-479d-ccfd-46ca6e8e5ebe"
      },
      "execution_count": null,
      "outputs": [
        {
          "output_type": "stream",
          "name": "stdout",
          "text": [
            "           Feature  Coefficient  Odds Ratio\n",
            "0  Monthly Revenue     0.764456    2.147826\n"
          ]
        }
      ]
    },
    {
      "cell_type": "markdown",
      "source": [
        "2. Insights"
      ],
      "metadata": {
        "id": "2xcj-sZx6qQj"
      }
    },
    {
      "cell_type": "code",
      "source": [
        "feedback_predictions = pd.DataFrame({'Actual Feedback': y_test, 'Predicted Feedback': y_pred_binary})\n",
        "print(feedback_predictions.head())"
      ],
      "metadata": {
        "colab": {
          "base_uri": "https://localhost:8080/"
        },
        "id": "FuZ26uwD6po_",
        "outputId": "cfbcb327-5321-480f-c433-e314b4bd7fb1"
      },
      "execution_count": null,
      "outputs": [
        {
          "output_type": "stream",
          "name": "stdout",
          "text": [
            "      Actual Feedback  Predicted Feedback\n",
            "1447               33                   1\n",
            "1114               33                   1\n",
            "1064               33                   1\n",
            "2287               50                   1\n",
            "1537               44                   1\n"
          ]
        }
      ]
    },
    {
      "cell_type": "markdown",
      "source": [
        "Visualization"
      ],
      "metadata": {
        "id": "fp1ov5Oc6rb1"
      }
    },
    {
      "cell_type": "code",
      "source": [
        "plt.figure(figsize=(12, 8))\n",
        "sns.barplot(x='Coefficient', y='Feature', data=feature_importance, color='skyblue')\n",
        "plt.title('Feature Importance for Linear Regression')\n",
        "plt.xlabel('Coefficient')\n",
        "plt.ylabel('Feature')\n",
        "plt.show()\n"
      ],
      "metadata": {
        "colab": {
          "base_uri": "https://localhost:8080/",
          "height": 718
        },
        "id": "fWBLa7h-6uSn",
        "outputId": "325c47d0-1af3-4480-e5cf-fd915a8073c1"
      },
      "execution_count": null,
      "outputs": [
        {
          "output_type": "display_data",
          "data": {
            "text/plain": [
              "<Figure size 1200x800 with 1 Axes>"
            ],
            "image/png": "[encoded data removed]"
          },
          "metadata": {}
        }
      ]
    },
    {
      "cell_type": "markdown",
      "source": [
        "**EXPLANATION**"
      ],
      "metadata": {
        "id": "TUeBpOMEeTVv"
      }
    },
    {
      "cell_type": "markdown",
      "source": [
        "\n",
        "**Part 1: Data Preprocessing**\n",
        "\n",
        "I began by importing the dataset using Pandas, ensuring a structured approach to data handling from the outset. Here, I chose encoding methods that suited the dataset and the models I planned to use. Also in **selection features,** I identified and included the most relevant features to ensure the accuracy and efficiency of the regression models. Here I input Age and Monthly Revenue as variables. I chose this so I can get track of the regression line and get its slope and intercept.\n",
        "\n"
      ],
      "metadata": {
        "id": "9KL-yOJRfSeA"
      }
    },
    {
      "cell_type": "markdown",
      "source": [
        "**Part 2: Exploratory Data Analysis (EDA)**\n",
        "In this particular step, I computed descriptive statistics to gain a comprehensive overview of the dataset. This provided insights into its central tendencies and distributions.I also added visual representations, such as graphs and charts, were created to enhance the understanding of the dataset's characteristics. These visualizations helped me identify the patterns better.\n",
        "\n"
      ],
      "metadata": {
        "id": "yBzbeKD3gyz7"
      }
    },
    {
      "cell_type": "markdown",
      "source": [
        "**Part 3: Linear Regression Model (Predicting Monthly Revenue)**\n",
        "Here, I employed established methodologies to ensure the model's optimal performance. I also assessed the model's efficacy using established metrics such as R-squared and RMSE. This provided me with a quantitative measure of the model's predictive capabilities, guiding further analysis and refinement.\n",
        "\n"
      ],
      "metadata": {
        "id": "AChP7G92gnDP"
      }
    },
    {
      "cell_type": "markdown",
      "source": [
        "**Part 4: Logistic Regression Model (Predicting Customer Feedback)**\n",
        "In this part, I categorized feedback into binary outcomes and leveraged user demographics and subscription details for accurate predictions. Also, I evaluated the performance of the feedback prediction model using metrics such as accuracy, precision, recall, and F1-score.\n"
      ],
      "metadata": {
        "id": "PvPZDnlJhU3V"
      }
    },
    {
      "cell_type": "markdown",
      "source": [
        "**Part 5: Comparative Analysis and Visualization**\n",
        "In the last part of my code, I thoroughly explored the significance of different features to understand their impact on model performance. I've also derived insights from the models' predictions and it was crucial for drawing actionable conclusions for investigating the Monthly Revenue and customer's feedback.\n",
        "\n",
        "\n",
        "In the **linear regression model**, I look closely at the coefficients assigned to each feature. These coefficients tell me how much each feature influences Monthly Revenue, helping me identify the most impactful factors. Meanwhile, in the **logistic regression model**, I analyze the coefficients or odds ratios of each feature to understand their effect on the likelihood of positive or negative feedback from customers. This insight allows me to pinpoint what aspects contribute to customer satisfaction or dissatisfaction.\n"
      ],
      "metadata": {
        "id": "WQ1Tb_XghWvx"
      }
    }
  ]
}